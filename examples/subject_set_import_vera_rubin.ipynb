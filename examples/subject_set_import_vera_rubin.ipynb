{
 "cells": [
  {
   "cell_type": "code",
   "execution_count": null,
   "id": "current-congo",
   "metadata": {},
   "outputs": [],
   "source": [
    "import panoptes_client\n",
    "import sys,os,os.path,logging,json\n",
    "# Add panoptes API client debugging to Stderr\n",
    "os.environ['PANOPTES_DEBUG'] = 'true'\n",
    "os.environ['PANOPTES_DEBUG']"
   ]
  },
  {
   "cell_type": "code",
   "execution_count": null,
   "id": "surprising-mentor",
   "metadata": {},
   "outputs": [],
   "source": [
    "# Get access to the API client logs\n",
    "logger = logging.getLogger()\n",
    "logger.setLevel(logging.DEBUG)\n",
    "\n",
    "# Create STDERR handler\n",
    "handler = logging.StreamHandler(sys.stderr)\n",
    "\n",
    "# Create formatter and add it to the handler\n",
    "formatter = logging.Formatter('%(name)s - %(levelname)s - %(message)s')\n",
    "handler.setFormatter(formatter)\n",
    "\n",
    "# Set STDERR handler as the only handler \n",
    "logger.handlers = [handler]"
   ]
  },
  {
   "cell_type": "code",
   "execution_count": null,
   "id": "joined-novelty",
   "metadata": {},
   "outputs": [],
   "source": [
    "# The URL where the output files can be accessed by zooniverse.\n",
    "#url_root = \"https://lsst.ncsa.illinois.edu/~parejkoj/zooniverse/\"\n",
    "url_root = \"https://lsst.ncsa.illinois.edu/~ebellm/zooniverse/\""
   ]
  },
  {
   "cell_type": "code",
   "execution_count": null,
   "id": "friendly-context",
   "metadata": {},
   "outputs": [],
   "source": [
    "client = panoptes_client.Panoptes.connect(login=\"interactive\")\n",
    "# client = panoptes_client.Panoptes.connect()"
   ]
  },
  {
   "cell_type": "code",
   "execution_count": null,
   "id": "opposed-internet",
   "metadata": {},
   "outputs": [],
   "source": [
    "# camallen's test subject set target for subject set imports\n",
    "subject_set = panoptes_client.SubjectSet.find(90418)"
   ]
  },
  {
   "cell_type": "code",
   "execution_count": null,
   "id": "north-plymouth",
   "metadata": {},
   "outputs": [],
   "source": [
    "subject_set.id"
   ]
  },
  {
   "cell_type": "code",
   "execution_count": null,
   "id": "handled-earth",
   "metadata": {},
   "outputs": [],
   "source": [
    "# ensure we're using the the secure HTTPS protocol (not HTTP)\n",
    "client.endpoint"
   ]
  },
  {
   "cell_type": "code",
   "execution_count": null,
   "id": "concrete-qatar",
   "metadata": {},
   "outputs": [],
   "source": [
    "payload_dict = {\"subject_set_imports\": {\"source_url\": f\"{url_root}manifest.csv\", \"links\": {\"subject_set\": subject_set.id}}}\n",
    "\n",
    "json.dumps(payload_dict)"
   ]
  },
  {
   "cell_type": "code",
   "execution_count": null,
   "id": "disturbed-granny",
   "metadata": {},
   "outputs": [],
   "source": [
    "# request the import via the API client (custom path as this isn't an exposed resource in the client)\n",
    "# this should be added to the Zooniverse python client / cli tools to improve the user experience\n",
    "# https://github.com/zooniverse/panoptes-python-client/issues/255\n",
    "json_response, etag = client.post(path='/subject_set_imports', json=payload_dict)"
   ]
  },
  {
   "cell_type": "code",
   "execution_count": null,
   "id": "accurate-appendix",
   "metadata": {},
   "outputs": [],
   "source": [
    "json_response"
   ]
  },
  {
   "cell_type": "code",
   "execution_count": null,
   "id": "ethical-destiny",
   "metadata": {},
   "outputs": [],
   "source": [
    "subject_set_imports_path = '/subject_set_imports/{}'.format(json_response['subject_set_imports'][0]['id'])\n",
    "json_response, etag = client.get(path=subject_set_imports_path)"
   ]
  },
  {
   "cell_type": "code",
   "execution_count": null,
   "id": "urban-magazine",
   "metadata": {},
   "outputs": [],
   "source": [
    "json_response"
   ]
  },
  {
   "cell_type": "code",
   "execution_count": null,
   "id": "underlying-retention",
   "metadata": {},
   "outputs": [],
   "source": []
  }
 ],
 "metadata": {
  "kernelspec": {
   "display_name": "Python 3",
   "language": "python",
   "name": "python3"
  },
  "language_info": {
   "codemirror_mode": {
    "name": "ipython",
    "version": 3
   },
   "file_extension": ".py",
   "mimetype": "text/x-python",
   "name": "python",
   "nbconvert_exporter": "python",
   "pygments_lexer": "ipython3",
   "version": "3.8.6"
  }
 },
 "nbformat": 4,
 "nbformat_minor": 5
}
